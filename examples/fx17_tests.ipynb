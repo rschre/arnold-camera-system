{
 "cells": [
  {
   "cell_type": "code",
   "execution_count": 1,
   "id": "40c64ef7",
   "metadata": {},
   "outputs": [],
   "source": [
    "import sys\n",
    "from pathlib import Path\n",
    "\n",
    "parent_dir = str(Path.cwd().parent)\n",
    "if parent_dir not in sys.path:\n",
    "    sys.path.insert(0, parent_dir)"
   ]
  },
  {
   "cell_type": "code",
   "execution_count": 2,
   "id": "1bf5c15a",
   "metadata": {},
   "outputs": [],
   "source": [
    "from arnold_camera_system.camera.hsi.fx17_wrapper import FX17CameraWrapper"
   ]
  },
  {
   "cell_type": "code",
   "execution_count": 3,
   "id": "c458b8f1",
   "metadata": {},
   "outputs": [
    {
     "name": "stdout",
     "output_type": "stream",
     "text": [
      "No cameras found!\n",
      "Make sure that:\n",
      "  - Network cable is connected.\n",
      "  - IP address of the camera is in the same network than the host computer.\n",
      "  - Computer allows incoming UDP traffic on port 3956 (firewall settings).\n",
      "If you don't know the IP address of the camera you can try to find it using tools like wireshark\n",
      "or you can try FORCEIP command to set IP address of the camera (see GCInterface.gvcp_forceip(...))\n"
     ]
    },
    {
     "data": {
      "text/plain": [
       "False"
      ]
     },
     "execution_count": 3,
     "metadata": {},
     "output_type": "execute_result"
    }
   ],
   "source": [
    "fx17 = FX17CameraWrapper()\n",
    "fx17.connect()"
   ]
  },
  {
   "cell_type": "code",
   "execution_count": 4,
   "id": "7bca281d",
   "metadata": {},
   "outputs": [
    {
     "ename": "TimeoutError",
     "evalue": "timed out",
     "output_type": "error",
     "traceback": [
      "\u001b[31m---------------------------------------------------------------------------\u001b[39m",
      "\u001b[31mTimeoutError\u001b[39m                              Traceback (most recent call last)",
      "\u001b[36mFile \u001b[39m\u001b[32m~\\code\\arnold-camera-system\\spectralcam\\spectralcam\\gige\\gvcp.py:1264\u001b[39m, in \u001b[36mGVCP._exec_request\u001b[39m\u001b[34m(self, request, retry)\u001b[39m\n\u001b[32m   1263\u001b[39m \u001b[38;5;28;01mtry\u001b[39;00m:\n\u001b[32m-> \u001b[39m\u001b[32m1264\u001b[39m   response = \u001b[38;5;28mself\u001b[39m._handle_ack(\u001b[38;5;28;43mself\u001b[39;49m\u001b[43m.\u001b[49m\u001b[43m_soc\u001b[49m\u001b[43m.\u001b[49m\u001b[43mrecv\u001b[49m\u001b[43m(\u001b[49m\u001b[43mETH_MAX_MTU\u001b[49m\u001b[43m)\u001b[49m, request.req_id)\n\u001b[32m   1265\u001b[39m   \u001b[38;5;28;01mwhile\u001b[39;00m \u001b[38;5;28mself\u001b[39m._pending:\n",
      "\u001b[31mTimeoutError\u001b[39m: timed out",
      "\nDuring handling of the above exception, another exception occurred:\n",
      "\u001b[31mTimeoutError\u001b[39m                              Traceback (most recent call last)",
      "\u001b[36mFile \u001b[39m\u001b[32m~\\code\\arnold-camera-system\\spectralcam\\spectralcam\\gige\\gvcp.py:1264\u001b[39m, in \u001b[36mGVCP._exec_request\u001b[39m\u001b[34m(self, request, retry)\u001b[39m\n\u001b[32m   1263\u001b[39m \u001b[38;5;28;01mtry\u001b[39;00m:\n\u001b[32m-> \u001b[39m\u001b[32m1264\u001b[39m   response = \u001b[38;5;28mself\u001b[39m._handle_ack(\u001b[38;5;28;43mself\u001b[39;49m\u001b[43m.\u001b[49m\u001b[43m_soc\u001b[49m\u001b[43m.\u001b[49m\u001b[43mrecv\u001b[49m\u001b[43m(\u001b[49m\u001b[43mETH_MAX_MTU\u001b[49m\u001b[43m)\u001b[49m, request.req_id)\n\u001b[32m   1265\u001b[39m   \u001b[38;5;28;01mwhile\u001b[39;00m \u001b[38;5;28mself\u001b[39m._pending:\n",
      "\u001b[31mTimeoutError\u001b[39m: timed out",
      "\nDuring handling of the above exception, another exception occurred:\n",
      "\u001b[31mTimeoutError\u001b[39m                              Traceback (most recent call last)",
      "\u001b[36mCell\u001b[39m\u001b[36m \u001b[39m\u001b[32mIn[4]\u001b[39m\u001b[32m, line 1\u001b[39m\n\u001b[32m----> \u001b[39m\u001b[32m1\u001b[39m data = \u001b[43mfx17\u001b[49m\u001b[43m.\u001b[49m\u001b[43mstart_timed_capture\u001b[49m\u001b[43m(\u001b[49m\u001b[32;43m1000\u001b[39;49m\u001b[43m)\u001b[49m\n",
      "\u001b[36mFile \u001b[39m\u001b[32mc:\\Users\\ibre\\code\\arnold-camera-system\\arnold_camera_system\\camera\\hsi\\fx17_wrapper.py:63\u001b[39m, in \u001b[36mFX17CameraWrapper.start_timed_capture\u001b[39m\u001b[34m(self, duration)\u001b[39m\n\u001b[32m     61\u001b[39m \u001b[38;5;28;01mif\u001b[39;00m \u001b[38;5;28mself\u001b[39m.camera \u001b[38;5;129;01mis\u001b[39;00m \u001b[38;5;129;01mnot\u001b[39;00m \u001b[38;5;28;01mNone\u001b[39;00m:\n\u001b[32m     62\u001b[39m     data = \u001b[38;5;28mself\u001b[39m.camera.stop_acquire()\n\u001b[32m---> \u001b[39m\u001b[32m63\u001b[39m     \u001b[38;5;28;43mself\u001b[39;49m\u001b[43m.\u001b[49m\u001b[43mcamera\u001b[49m\u001b[43m.\u001b[49m\u001b[43mclose_stream\u001b[49m\u001b[43m(\u001b[49m\u001b[43m)\u001b[49m\n\u001b[32m     64\u001b[39m     \u001b[38;5;28;01mreturn\u001b[39;00m data\n",
      "\u001b[36mFile \u001b[39m\u001b[32m~\\code\\arnold-camera-system\\spectralcam\\spectralcam\\specim\\fxbase.py:364\u001b[39m, in \u001b[36mFXBase.close_stream\u001b[39m\u001b[34m(self)\u001b[39m\n\u001b[32m    362\u001b[39m   \u001b[38;5;28mprint\u001b[39m(\u001b[33m\"\u001b[39m\u001b[33mFX: Closing stream channel...\u001b[39m\u001b[33m\"\u001b[39m)\n\u001b[32m    363\u001b[39m \u001b[38;5;28mself\u001b[39m._set_gev_scda(\u001b[32m0\u001b[39m)\n\u001b[32m--> \u001b[39m\u001b[32m364\u001b[39m \u001b[38;5;28;43mself\u001b[39;49m\u001b[43m.\u001b[49m\u001b[43mset\u001b[49m\u001b[43m(\u001b[49m\u001b[33;43m\"\u001b[39;49m\u001b[33;43mGevSCPHostPort\u001b[39;49m\u001b[33;43m\"\u001b[39;49m\u001b[43m,\u001b[49m\u001b[43m \u001b[49m\u001b[32;43m0\u001b[39;49m\u001b[43m)\u001b[49m\n\u001b[32m    365\u001b[39m gvsp.free_buffer(\u001b[38;5;28mself\u001b[39m._gvsp_p)\n\u001b[32m    366\u001b[39m gvsp.close_socket(\u001b[38;5;28mself\u001b[39m._gvsp_p)\n",
      "\u001b[36mFile \u001b[39m\u001b[32m~\\code\\arnold-camera-system\\spectralcam\\spectralcam\\specim\\fxbase.py:309\u001b[39m, in \u001b[36mFXBase.set\u001b[39m\u001b[34m(self, feature, value)\u001b[39m\n\u001b[32m    307\u001b[39m   feature_obj.execute()\n\u001b[32m    308\u001b[39m \u001b[38;5;28;01melse\u001b[39;00m:\n\u001b[32m--> \u001b[39m\u001b[32m309\u001b[39m   \u001b[43mfeature_obj\u001b[49m\u001b[43m.\u001b[49m\u001b[43mvalue\u001b[49m = value\n",
      "\u001b[36mFile \u001b[39m\u001b[32mc:\\Users\\ibre\\code\\arnold-camera-system\\.venv\\Lib\\site-packages\\genicam\\genapi.py:2206\u001b[39m, in \u001b[36mIInteger._set_value\u001b[39m\u001b[34m(self, value)\u001b[39m\n\u001b[32m   2204\u001b[39m     \u001b[38;5;28mself\u001b[39m.from_string(value)\n\u001b[32m   2205\u001b[39m \u001b[38;5;28;01melse\u001b[39;00m:\n\u001b[32m-> \u001b[39m\u001b[32m2206\u001b[39m     \u001b[38;5;28;43mself\u001b[39;49m\u001b[43m.\u001b[49m\u001b[43m_primary_set_value\u001b[49m\u001b[43m(\u001b[49m\u001b[43mvalue\u001b[49m\u001b[43m)\u001b[49m\n",
      "\u001b[36mFile \u001b[39m\u001b[32mc:\\Users\\ibre\\code\\arnold-camera-system\\.venv\\Lib\\site-packages\\genicam\\genapi.py:2106\u001b[39m, in \u001b[36mIInteger._primary_set_value\u001b[39m\u001b[34m(self, Value, Verify)\u001b[39m\n\u001b[32m   2105\u001b[39m \u001b[38;5;28;01mdef\u001b[39;00m\u001b[38;5;250m \u001b[39m\u001b[34m_primary_set_value\u001b[39m(\u001b[38;5;28mself\u001b[39m, Value, Verify=\u001b[38;5;28;01mTrue\u001b[39;00m):\n\u001b[32m-> \u001b[39m\u001b[32m2106\u001b[39m     \u001b[38;5;28;01mreturn\u001b[39;00m \u001b[43m_genapi\u001b[49m\u001b[43m.\u001b[49m\u001b[43mIInteger__primary_set_value\u001b[49m\u001b[43m(\u001b[49m\u001b[38;5;28;43mself\u001b[39;49m\u001b[43m,\u001b[49m\u001b[43m \u001b[49m\u001b[43mValue\u001b[49m\u001b[43m,\u001b[49m\u001b[43m \u001b[49m\u001b[43mVerify\u001b[49m\u001b[43m)\u001b[49m\n",
      "\u001b[36mFile \u001b[39m\u001b[32m~\\code\\arnold-camera-system\\spectralcam\\spectralcam\\gige\\gvcp.py:1344\u001b[39m, in \u001b[36mPortGVCP.write\u001b[39m\u001b[34m(self, address, value)\u001b[39m\n\u001b[32m   1342\u001b[39m \u001b[38;5;250m\u001b[39m\u001b[33;03m\"\"\"Write value through GVCP module\"\"\"\u001b[39;00m\n\u001b[32m   1343\u001b[39m \u001b[38;5;28;01mif\u001b[39;00m \u001b[38;5;28mlen\u001b[39m(value) <= \u001b[32m4\u001b[39m:\n\u001b[32m-> \u001b[39m\u001b[32m1344\u001b[39m   \u001b[38;5;28;43mself\u001b[39;49m\u001b[43m.\u001b[49m\u001b[43mgvcp\u001b[49m\u001b[43m.\u001b[49m\u001b[43mwritereg\u001b[49m\u001b[43m(\u001b[49m\u001b[43maddress\u001b[49m\u001b[43m,\u001b[49m\u001b[43m \u001b[49m\u001b[43mbytes_to_uint32\u001b[49m\u001b[43m(\u001b[49m\u001b[43mvalue\u001b[49m\u001b[43m)\u001b[49m\u001b[43m)\u001b[49m\n\u001b[32m   1345\u001b[39m \u001b[38;5;28;01melse\u001b[39;00m:\n\u001b[32m   1346\u001b[39m   \u001b[38;5;28mself\u001b[39m.gvcp.writemem(address, value)\n",
      "\u001b[36mFile \u001b[39m\u001b[32m~\\code\\arnold-camera-system\\spectralcam\\spectralcam\\gige\\gvcp.py:1051\u001b[39m, in \u001b[36mGVCP.writereg\u001b[39m\u001b[34m(self, addrs, values, ack)\u001b[39m\n\u001b[32m   1049\u001b[39m request = GVCPWriteRegCmd(\u001b[38;5;28mself\u001b[39m._req_id.get(), addrs, values, ack)\n\u001b[32m   1050\u001b[39m \u001b[38;5;28;01mif\u001b[39;00m \u001b[38;5;28mself\u001b[39m.verbose: \u001b[38;5;28mprint\u001b[39m(request)\n\u001b[32m-> \u001b[39m\u001b[32m1051\u001b[39m response = \u001b[38;5;28;43mself\u001b[39;49m\u001b[43m.\u001b[49m\u001b[43m_request\u001b[49m\u001b[43m(\u001b[49m\u001b[43mrequest\u001b[49m\u001b[43m)\u001b[49m\n\u001b[32m   1053\u001b[39m \u001b[38;5;66;03m# Handle response\u001b[39;00m\n\u001b[32m   1054\u001b[39m \u001b[38;5;28;01mif\u001b[39;00m ack:\n",
      "\u001b[36mFile \u001b[39m\u001b[32m~\\code\\arnold-camera-system\\spectralcam\\spectralcam\\gige\\gvcp.py:1252\u001b[39m, in \u001b[36mGVCP._request\u001b[39m\u001b[34m(self, request)\u001b[39m\n\u001b[32m   1250\u001b[39m \u001b[38;5;28mself\u001b[39m._soc_lock.acquire()\n\u001b[32m   1251\u001b[39m \u001b[38;5;28;01mtry\u001b[39;00m:\n\u001b[32m-> \u001b[39m\u001b[32m1252\u001b[39m   response = \u001b[38;5;28;43mself\u001b[39;49m\u001b[43m.\u001b[49m\u001b[43m_exec_request\u001b[49m\u001b[43m(\u001b[49m\u001b[43mrequest\u001b[49m\u001b[43m,\u001b[49m\u001b[43m \u001b[49m\u001b[32;43m1\u001b[39;49m\u001b[43m)\u001b[49m\n\u001b[32m   1253\u001b[39m \u001b[38;5;28;01mfinally\u001b[39;00m:\n\u001b[32m   1254\u001b[39m   \u001b[38;5;28mself\u001b[39m._soc_lock.release()\n",
      "\u001b[36mFile \u001b[39m\u001b[32m~\\code\\arnold-camera-system\\spectralcam\\spectralcam\\gige\\gvcp.py:1272\u001b[39m, in \u001b[36mGVCP._exec_request\u001b[39m\u001b[34m(self, request, retry)\u001b[39m\n\u001b[32m   1270\u001b[39m     \u001b[38;5;28mprint\u001b[39m(\u001b[33mf\u001b[39m\u001b[33m\"\u001b[39m\u001b[33mGVCP: Attempt \u001b[39m\u001b[38;5;132;01m{\u001b[39;00mretry\u001b[38;5;132;01m}\u001b[39;00m\u001b[33m timed out\u001b[39m\u001b[33m\"\u001b[39m)\n\u001b[32m   1271\u001b[39m   retry += \u001b[32m1\u001b[39m\n\u001b[32m-> \u001b[39m\u001b[32m1272\u001b[39m   response = \u001b[38;5;28;43mself\u001b[39;49m\u001b[43m.\u001b[49m\u001b[43m_exec_request\u001b[49m\u001b[43m(\u001b[49m\u001b[43mrequest\u001b[49m\u001b[43m,\u001b[49m\u001b[43m \u001b[49m\u001b[43mretry\u001b[49m\u001b[43m)\u001b[49m\n\u001b[32m   1273\u001b[39m \u001b[38;5;28;01melse\u001b[39;00m:\n\u001b[32m   1274\u001b[39m   \u001b[38;5;28;01mraise\u001b[39;00m err_timeout\n",
      "\u001b[36mFile \u001b[39m\u001b[32m~\\code\\arnold-camera-system\\spectralcam\\spectralcam\\gige\\gvcp.py:1272\u001b[39m, in \u001b[36mGVCP._exec_request\u001b[39m\u001b[34m(self, request, retry)\u001b[39m\n\u001b[32m   1270\u001b[39m     \u001b[38;5;28mprint\u001b[39m(\u001b[33mf\u001b[39m\u001b[33m\"\u001b[39m\u001b[33mGVCP: Attempt \u001b[39m\u001b[38;5;132;01m{\u001b[39;00mretry\u001b[38;5;132;01m}\u001b[39;00m\u001b[33m timed out\u001b[39m\u001b[33m\"\u001b[39m)\n\u001b[32m   1271\u001b[39m   retry += \u001b[32m1\u001b[39m\n\u001b[32m-> \u001b[39m\u001b[32m1272\u001b[39m   response = \u001b[38;5;28;43mself\u001b[39;49m\u001b[43m.\u001b[49m\u001b[43m_exec_request\u001b[49m\u001b[43m(\u001b[49m\u001b[43mrequest\u001b[49m\u001b[43m,\u001b[49m\u001b[43m \u001b[49m\u001b[43mretry\u001b[49m\u001b[43m)\u001b[49m\n\u001b[32m   1273\u001b[39m \u001b[38;5;28;01melse\u001b[39;00m:\n\u001b[32m   1274\u001b[39m   \u001b[38;5;28;01mraise\u001b[39;00m err_timeout\n",
      "\u001b[36mFile \u001b[39m\u001b[32m~\\code\\arnold-camera-system\\spectralcam\\spectralcam\\gige\\gvcp.py:1274\u001b[39m, in \u001b[36mGVCP._exec_request\u001b[39m\u001b[34m(self, request, retry)\u001b[39m\n\u001b[32m   1272\u001b[39m       response = \u001b[38;5;28mself\u001b[39m._exec_request(request, retry)\n\u001b[32m   1273\u001b[39m     \u001b[38;5;28;01melse\u001b[39;00m:\n\u001b[32m-> \u001b[39m\u001b[32m1274\u001b[39m       \u001b[38;5;28;01mraise\u001b[39;00m err_timeout\n\u001b[32m   1275\u001b[39m \u001b[38;5;28;01mreturn\u001b[39;00m response\n",
      "\u001b[36mFile \u001b[39m\u001b[32m~\\code\\arnold-camera-system\\spectralcam\\spectralcam\\gige\\gvcp.py:1264\u001b[39m, in \u001b[36mGVCP._exec_request\u001b[39m\u001b[34m(self, request, retry)\u001b[39m\n\u001b[32m   1262\u001b[39m \u001b[38;5;28;01mif\u001b[39;00m request.ack:\n\u001b[32m   1263\u001b[39m   \u001b[38;5;28;01mtry\u001b[39;00m:\n\u001b[32m-> \u001b[39m\u001b[32m1264\u001b[39m     response = \u001b[38;5;28mself\u001b[39m._handle_ack(\u001b[38;5;28;43mself\u001b[39;49m\u001b[43m.\u001b[49m\u001b[43m_soc\u001b[49m\u001b[43m.\u001b[49m\u001b[43mrecv\u001b[49m\u001b[43m(\u001b[49m\u001b[43mETH_MAX_MTU\u001b[49m\u001b[43m)\u001b[49m, request.req_id)\n\u001b[32m   1265\u001b[39m     \u001b[38;5;28;01mwhile\u001b[39;00m \u001b[38;5;28mself\u001b[39m._pending:\n\u001b[32m   1266\u001b[39m       response = \u001b[38;5;28mself\u001b[39m._handle_ack(\u001b[38;5;28mself\u001b[39m._soc.recv(ETH_MAX_MTU), request.req_id)\n",
      "\u001b[31mTimeoutError\u001b[39m: timed out"
     ]
    }
   ],
   "source": [
    "data = fx17.start_timed_capture(1000)"
   ]
  },
  {
   "cell_type": "code",
   "execution_count": null,
   "id": "612cd952",
   "metadata": {},
   "outputs": [
    {
     "data": {
      "text/plain": [
       "NoneType"
      ]
     },
     "execution_count": 10,
     "metadata": {},
     "output_type": "execute_result"
    }
   ],
   "source": [
    "type(data)"
   ]
  }
 ],
 "metadata": {
  "kernelspec": {
   "display_name": "arnold-camera-system (3.11.13)",
   "language": "python",
   "name": "python3"
  },
  "language_info": {
   "codemirror_mode": {
    "name": "ipython",
    "version": 3
   },
   "file_extension": ".py",
   "mimetype": "text/x-python",
   "name": "python",
   "nbconvert_exporter": "python",
   "pygments_lexer": "ipython3",
   "version": "3.11.13"
  }
 },
 "nbformat": 4,
 "nbformat_minor": 5
}
